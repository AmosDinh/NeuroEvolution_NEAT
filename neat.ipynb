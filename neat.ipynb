{
 "cells": [
  {
   "cell_type": "code",
   "execution_count": 1942,
   "metadata": {},
   "outputs": [],
   "source": [
    "import numpy as np "
   ]
  },
  {
   "cell_type": "markdown",
   "metadata": {},
   "source": [
    "# NEAT\n",
    "1. Classes and Functions\n",
    "- 1.1. Neural Network (Genotype)->Phenotype, input, output dim, contains mutation: \n",
    "- 1.2. Genotype: A->B: connection gene, A:Node gene, is_disabled, weight, keep track of gene history\n",
    "- 1.3. Crossover (Genotype1, Genotype2)->Genotype12\n",
    "- 1.4. Species, represented by random member\n",
    "- 1.5. Speciation (List of Species)-> List of Species\n",
    "- 1.6. Fitness Calculation (Species)\n",
    "- 1.7."
   ]
  },
  {
   "cell_type": "code",
   "execution_count": 2019,
   "metadata": {},
   "outputs": [],
   "source": [
    "# Evolver:\n",
    "n_networks = 150\n",
    "\n",
    "# Fitness:\n",
    "c1 = 1.0\n",
    "c2 = 1.0\n",
    "c3 = 0.4\n",
    "dt = 3 \n",
    "\n",
    "# Mutation\n",
    "mutate_weight_prob = 0.8\n",
    "mutate_weight_perturb = 0.9\n",
    "mutate_weight_random = 1 - mutate_weight_perturb\n",
    "mutate_add_node_prob = 0.03\n",
    "mutate_add_node_prob = 0.5\n",
    "mutate_add_node_prob_large_pop = 0.3\n",
    "mutate_add_link_prob = 0.05\n",
    "mutate_add_link_prob = 0.5\n",
    "\n",
    "offspring_without_crossover = 0.25\n",
    "interspecies_mate_rate = 0.001\n"
   ]
  },
  {
   "cell_type": "code",
   "execution_count": 2041,
   "metadata": {},
   "outputs": [],
   "source": [
    "\n",
    "import pandas as pd\n",
    "\n",
    "class History:\n",
    "    def __init__(self):\n",
    "        self.last_node_id = 0\n",
    "        self.last_connection_id = 0\n",
    "        self.node_innovations = {}\n",
    "        self.connection_innovations = {}\n",
    "    \n",
    "    def add_node_gene(self, start_node_id, end_node_id): # node is added between start and end\n",
    "        self.last_node_id += 1\n",
    "        \n",
    "\n",
    "\n",
    "\n",
    "class Connection_Gene_History:\n",
    "    def __init__(self):\n",
    "        self.innovation_number = 0\n",
    "        self.history = {}\n",
    "    \n",
    "    def get_innovation_number(self, connection):\n",
    "        if connection not in self.history:\n",
    "            self.innovation_number += 1\n",
    "            self.history[connection] = self.innovation_number\n",
    "        \n",
    "        return self.history[connection]\n",
    "    \n",
    "    def __contains__(self, connection):\n",
    "        return connection in self.history\n",
    "\n",
    "class Node_Gene_History:\n",
    "    def __init__(self):\n",
    "        self.innovation_number = -1\n",
    "        self.history = {}\n",
    "        self.node_levels = {}\n",
    "    \n",
    "    def get_innovation_number(self, connection, src_node, dst_node):\n",
    "        \n",
    "        if connection not in self.history:\n",
    "            self.innovation_number += 1\n",
    "            self.history[connection] = self.innovation_number\n",
    "            \n",
    "            dst_level = self.node_levels[dst_node]\n",
    "            if self.node_levels[src_node]+1 == dst_level:\n",
    "                print('trigger')\n",
    "                for k,v in self.node_levels.items():\n",
    "                    if v >= dst_level:\n",
    "                        self.node_levels[k] +=1 # increase level of all nodes with at least dst node level\n",
    "            self.node_levels[self.innovation_number] = self.node_levels[src_node]+1\n",
    "        \n",
    "        return self.history[connection]\n",
    "    \n",
    "    def add_initial_node(self, node_level, node_id=None):\n",
    "        if node_id is not None:\n",
    "            if self.innovation_number < node_id:\n",
    "                self.innovation_number = node_id\n",
    "            self.history[str(self.innovation_number)] = node_id\n",
    "        else:\n",
    "            self.innovation_number += 1\n",
    "            self.history[str(self.innovation_number)] = self.innovation_number\n",
    "        \n",
    "        self.node_levels[self.innovation_number] = node_level\n",
    "        \n",
    "        if node_id is not None:\n",
    "            return node_id\n",
    "        return self.innovation_number\n",
    "    \n",
    "    def __contains__(self, connection):\n",
    "        return connection in self.history\n",
    "\n",
    "\n",
    "\n",
    "class Node_Gene:\n",
    "    def __init__(self, src_node, dst_node, node_gene_history:Node_Gene_History, add_initial=False, add_initial_node_level=None, initial_node_id=None):\n",
    "        connection = str(src_node)+'->'+str(dst_node)\n",
    "        if add_initial:\n",
    "            self.innovation_number = node_gene_history.add_initial_node( add_initial_node_level, node_id=initial_node_id)\n",
    "        else:\n",
    "            self.innovation_number = node_gene_history.get_innovation_number( connection, src_node, dst_node)\n",
    "          \n",
    "        #self.src_node = src_node\n",
    "        #self.dst_node = dst_node\n",
    "\n",
    "class Connection_Gene:\n",
    "    def __init__(self, in_node, out_node, weight, is_disabled, connection_gene_history:Connection_Gene_History):\n",
    "        connection = str(in_node)+'->'+str(out_node)\n",
    "        self.in_node = in_node\n",
    "        self.out_node = out_node\n",
    "        self.weight = weight\n",
    "        self.is_disabled = is_disabled\n",
    "        self.innovation_number = connection_gene_history.get_innovation_number(connection)\n",
    "        \n",
    "            \n",
    "class Genotype:\n",
    "    def __init__(self, node_genes, connection_genes,\n",
    "                 node_gene_history:Node_Gene_History, connection_gene_history:Connection_Gene_History,\n",
    "                 mutate_weight_prob, mutate_weight_perturb, mutate_weight_random, mutate_add_node_prob, mutate_add_node_prob_large_pop, mutate_add_link_prob):\n",
    "        \n",
    "        self.node_genes = node_genes\n",
    "        self.connection_genes = connection_genes\n",
    "        self.node_gene_history = node_gene_history\n",
    "        self.connection_gene_history = connection_gene_history\n",
    "        self.mutate_weight_prob = mutate_weight_prob\n",
    "        self.mutate_weight_perturb = mutate_weight_perturb\n",
    "        self.mutate_weight_random = mutate_weight_random\n",
    "        self.mutate_add_node_prob = mutate_add_node_prob\n",
    "        self.mutate_add_node_prob_large_pop = mutate_add_node_prob_large_pop\n",
    "        self.mutate_add_link_prob = mutate_add_link_prob\n",
    "        self.node_genes_dict = {node_gene.innovation_number:node_gene for node_gene in self.node_genes}\n",
    "    \n",
    "    \n",
    "    def print_genotype(self):\n",
    "        # in pd table\n",
    "        node_genes = pd.DataFrame([[node_gene.innovation_number, self.node_gene_history.node_levels[node_gene.innovation_number]] for node_gene in self.node_genes], columns=['innovation_number', 'node_level'])\n",
    "        connection_genes = pd.DataFrame([[connection_gene.innovation_number, connection_gene.in_node, connection_gene.out_node, connection_gene.weight, connection_gene.is_disabled] for connection_gene in self.connection_genes], columns=['innovation_number','in_node', 'out_node', 'weight', 'is_disabled'])\n",
    "        \n",
    "     \n",
    "        \n",
    "        print('Node genes:')\n",
    "        print(node_genes)\n",
    "        print('Connection genes:')\n",
    "        print(connection_genes)\n",
    "        \n",
    "        \n",
    "    \n",
    "    def mutate(self):\n",
    "        # mutate weight\n",
    "        # random boolean  mask\n",
    "        mask = np.random.rand(len(self.connection_genes)) <= self.mutate_weight_prob\n",
    "        \n",
    "        for connection_gene in np.array(self.connection_genes)[mask]:\n",
    "            if np.random.rand() < self.mutate_weight_perturb:\n",
    "                connection_gene.weight += np.random.normal()\n",
    "            else:\n",
    "                connection_gene.weight = np.random.normal()\n",
    "        \n",
    "     \n",
    "        \n",
    "        # mutate add node\n",
    "        if np.random.rand() < self.mutate_add_node_prob:\n",
    "            self.add_node()\n",
    "\n",
    "        # mutate add link\n",
    "        if np.random.rand() < self.mutate_add_link_prob:\n",
    "            self.add_connection()\n",
    "            \n",
    "    def add_node(self):\n",
    "        # select a random connection gene\n",
    "        \n",
    "        non_disabled_connection_genes = [connection_gene for connection_gene in self.connection_genes if not connection_gene.is_disabled]\n",
    "        if len(non_disabled_connection_genes) == 0:\n",
    "            return\n",
    "        \n",
    "        connection_gene = np.random.choice(non_disabled_connection_genes)\n",
    "        connection_gene.is_disabled = True\n",
    "        \n",
    "        # add node gene\n",
    "        node_gene = Node_Gene(connection_gene.in_node, connection_gene.out_node, self.node_gene_history)\n",
    "        self.node_genes.append(node_gene)\n",
    "        self.node_genes_dict[node_gene.innovation_number] = node_gene\n",
    "        \n",
    "        # add connection genes, first weight is 1.0, second is the one of the original\n",
    "        connection_gene1 = Connection_Gene(connection_gene.in_node, node_gene.innovation_number, 1.0, False, self.connection_gene_history)\n",
    "        connection_gene2 = Connection_Gene(node_gene.innovation_number, connection_gene.out_node, connection_gene.weight, False, self.connection_gene_history)\n",
    "        self.connection_genes.append(connection_gene1)\n",
    "        self.connection_genes.append(connection_gene2)\n",
    "    \n",
    "    def add_connection(self):\n",
    "        permuted = np.random.permutation(self.node_genes)\n",
    "        node_levels = {}\n",
    "        for node_gene in permuted:\n",
    "            lvl = self.node_gene_history.node_levels[node_gene.innovation_number]\n",
    "            if lvl not in node_levels:\n",
    "                node_levels[lvl] = [node_gene]\n",
    "            else:\n",
    "                node_levels[lvl].append(node_gene)\n",
    "        \n",
    "        for src in permuted:\n",
    "            level = self.node_gene_history.node_levels[src.innovation_number]\n",
    "            dsts = []\n",
    "            for k, v in node_levels.items():\n",
    "                if k > level:\n",
    "                    dsts.extend(v)\n",
    "            permuted_dst = np.random.permutation(dsts)\n",
    "            for dst in permuted_dst:\n",
    "                connection = str(src.innovation_number)+'->'+str(dst.innovation_number)\n",
    "                if not connection in self.connection_gene_history:\n",
    "                    connection_gene = Connection_Gene(src.innovation_number, dst.innovation_number, np.random.normal(), False, self.connection_gene_history)\n",
    "                    # add connection gene\n",
    "                    connection_gene = Connection_Gene(src.innovation_number, dst.innovation_number, np.random.normal(), False, self.connection_gene_history)\n",
    "                    self.connection_genes.append(connection_gene)\n",
    "                    return # only add connection if one is possible\n",
    "    \n",
    "    \n",
    "    def _crossover_genes(self, fitness_self, fitness_other, genes_self, genes_other):\n",
    "        more_fit = genes_self if fitness_self > fitness_other else genes_other\n",
    "        less_fit = genes_self if fitness_self < fitness_other else genes_other\n",
    "        \n",
    "        # create new node genes\n",
    "        more_fit_innovations = set([gene.innovation_number for gene in more_fit])\n",
    "        less_fit_innovations = set([gene.innovation_number for gene in less_fit])\n",
    "        \n",
    "        overlap = np.array(list(more_fit_innovations.intersection(less_fit_innovations)))\n",
    "        disjoint = np.array(list(more_fit_innovations - less_fit_innovations)) # disjoint and excess of more fit\n",
    "        \n",
    "        mask = np.random.choice([True, False], len(overlap))\n",
    "       \n",
    "        if len(disjoint) > 0:\n",
    "            from_more_fit = np.concatenate([overlap[mask], disjoint])\n",
    "        else:\n",
    "            from_more_fit = overlap[mask]\n",
    "            \n",
    "        from_less_fit = overlap[~mask]\n",
    "        genes1 = [node_gene for node_gene in more_fit if node_gene.innovation_number in from_more_fit]\n",
    "        genes2 = [node_gene for node_gene in less_fit if node_gene.innovation_number in from_less_fit]\n",
    "        \n",
    "\n",
    "        genes1.extend(genes2)\n",
    "        return genes1\n",
    "    \n",
    "    def crossover(self, other, fitness_self, fitness_other):\n",
    "        node_genes = self._crossover_genes(fitness_self, fitness_other, self.node_genes, other.node_genes)\n",
    "        print('conn genes')\n",
    "        connection_genes = self._crossover_genes(fitness_self, fitness_other, self.connection_genes, other.connection_genes)\n",
    "        # create new connection genes\n",
    "        print('aa', connection_genes)\n",
    "        return Genotype(node_genes, connection_genes, self.node_gene_history, self.connection_gene_history, self.mutate_weight_prob, self.mutate_weight_perturb, self.mutate_weight_random, self.mutate_add_node_prob, self.mutate_add_node_prob_large_pop, self.mutate_add_link_prob)\n",
    "    \n",
    "    def distance(self, other):\n",
    "        pass\n",
    "    \n",
    "    def __str__(self):\n",
    "        return str(self.node_genes) + '\\n' + str(self.connection_genes)"
   ]
  },
  {
   "cell_type": "code",
   "execution_count": 2042,
   "metadata": {},
   "outputs": [
    {
     "name": "stdout",
     "output_type": "stream",
     "text": [
      "conn genes\n",
      "aa [<__main__.Connection_Gene object at 0x7fe367fd2f90>, <__main__.Connection_Gene object at 0x7fe368006510>, <__main__.Connection_Gene object at 0x7fe36822dad0>]\n",
      "Node genes:\n",
      "   innovation_number  node_level\n",
      "0                  0           0\n",
      "1                  1           0\n",
      "2                  2           1\n",
      "Connection genes:\n",
      "   innovation_number  in_node  out_node  weight  is_disabled\n",
      "0                  1        0         2     0.3        False\n",
      "1                  2        1         2     0.4        False\n",
      "Node genes:\n",
      "   innovation_number  node_level\n",
      "0                  0           0\n",
      "1                  1           0\n",
      "2                  2           1\n",
      "3                  3           0\n",
      "Connection genes:\n",
      "   innovation_number  in_node  out_node  weight  is_disabled\n",
      "0                  1        0         2    -0.2        False\n",
      "1                  2        1         2     0.7        False\n",
      "2                  3        3         2     0.7        False\n",
      "Node genes:\n",
      "   innovation_number  node_level\n",
      "0                  0           0\n",
      "1                  2           1\n",
      "2                  3           0\n",
      "3                  1           0\n",
      "Connection genes:\n",
      "   innovation_number  in_node  out_node  weight  is_disabled\n",
      "0                  3        3         2     0.7        False\n",
      "1                  1        0         2     0.3        False\n",
      "2                  2        1         2     0.4        False\n"
     ]
    }
   ],
   "source": [
    "# test crossover\n",
    "node_gene_history = Node_Gene_History()\n",
    "connection_gene_history = Connection_Gene_History()\n",
    "node_genes1 = [Node_Gene(None, None, node_gene_history, add_initial=True, add_initial_node_level=0, initial_node_id=0), \n",
    "              Node_Gene(None, None, node_gene_history, add_initial=True, add_initial_node_level=0, initial_node_id=1),\n",
    "              Node_Gene(None, None, node_gene_history, add_initial=True, add_initial_node_level=1, initial_node_id=2)] # output node\n",
    "\n",
    "node_genes2 = [Node_Gene(None, None, node_gene_history, add_initial=True, add_initial_node_level=0, initial_node_id=0), \n",
    "              Node_Gene(None, None, node_gene_history, add_initial=True, add_initial_node_level=0, initial_node_id=1),\n",
    "              Node_Gene(None, None, node_gene_history, add_initial=True, add_initial_node_level=1, initial_node_id=2),\n",
    "              Node_Gene(None, None, node_gene_history, add_initial=True, add_initial_node_level=0, initial_node_id=3),\n",
    "              \n",
    "              ] # output node\n",
    "\n",
    "connection_genes1 = [\n",
    "    Connection_Gene(0, 2, 0.3, False, connection_gene_history), \n",
    "    Connection_Gene(1, 2, 0.4, False, connection_gene_history)\n",
    "    ]\n",
    "\n",
    "connection_genes2 = [\n",
    "    Connection_Gene(0, 2, -0.2, False, connection_gene_history), \n",
    "    Connection_Gene(1, 2, 0.7, False, connection_gene_history),\n",
    "    Connection_Gene(3, 2, 0.7, False, connection_gene_history),\n",
    "    ]\n",
    "\n",
    "genotype1 = Genotype(node_genes1, connection_genes1, node_gene_history, connection_gene_history, mutate_weight_prob, mutate_weight_perturb, mutate_weight_random, mutate_add_node_prob, mutate_add_node_prob_large_pop, mutate_add_link_prob)\n",
    "genotype2 = Genotype(node_genes2, connection_genes2, node_gene_history, connection_gene_history, mutate_weight_prob, mutate_weight_perturb, mutate_weight_random, mutate_add_node_prob, mutate_add_node_prob_large_pop, mutate_add_link_prob)\n",
    "genotype3 = genotype1.crossover(genotype2, 1.0, 2)\n",
    "\n",
    "\n",
    "for genotype_name, genotype in zip(['genotype1', 'genotype2', 'genotype3'], [genotype1, genotype2, genotype3]):\n",
    "    genotype.print_genotype()"
   ]
  },
  {
   "cell_type": "code",
   "execution_count": 2078,
   "metadata": {},
   "outputs": [
    {
     "data": {
      "text/plain": [
       "tensor([0.9753])"
      ]
     },
     "execution_count": 2078,
     "metadata": {},
     "output_type": "execute_result"
    }
   ],
   "source": [
    "import torch \n",
    "from typing import Dict \n",
    "\n",
    "\n",
    "\n",
    "def sigmoid(x):\n",
    "    #return 1.0 / (1.0 + torch.exp(-4.9*x))\n",
    "    return 1.0 / (1.0 + torch.exp(-x))\n",
    "    \n",
    "class NeuralNetwork(torch.nn.Module):\n",
    "    def __init__(self, genotype:Genotype):\n",
    "        self.genotype = genotype\n",
    "        self.connection_genes = genotype.connection_genes\n",
    "    \n",
    "        # create nn\n",
    "        self.connections_per_level = {}\n",
    "        self.connections = {}\n",
    "        \n",
    "        for connection_gene in [gene for gene in self.connection_genes if not gene.is_disabled]:\n",
    "            self.connections[connection_gene.innovation_number] = torch.nn.Linear(1, 1, bias=False)\n",
    "            # specify weight\n",
    "            self.connections[connection_gene.innovation_number].weight = torch.nn.Parameter(torch.tensor([connection_gene.weight]))\n",
    "            self.connections[connection_gene.innovation_number].weight.requires_grad = False\n",
    "            src_node = connection_gene.in_node\n",
    "            dst_node = connection_gene.out_node\n",
    "            dst_node_level = self.genotype.node_gene_history.node_levels[dst_node]\n",
    "            \n",
    "            if dst_node_level not in self.connections_per_level:\n",
    "                self.connections_per_level[dst_node_level] = {dst_node:{}}\n",
    "            elif dst_node not in self.connections_per_level[dst_node_level]:\n",
    "                self.connections_per_level[dst_node_level][dst_node] = {}\n",
    "            \n",
    "            \n",
    "            self.connections_per_level[dst_node_level][dst_node][src_node] = self.connections[connection_gene.innovation_number]\n",
    "            \n",
    "        self.sorted_levels = sorted(self.connections_per_level.keys())               \n",
    "    \n",
    "    \n",
    "    def print_nn(self):\n",
    "        # format nicely\n",
    "        i = 0\n",
    "        for level in reversed(self.sorted_levels):\n",
    "            i+=1\n",
    "            for node in self.connections_per_level[level]:\n",
    "                print(' '*i*3+'Node:', node)\n",
    "                for src_node in self.connections_per_level[level][node]:\n",
    "                    print(' '*i*6+ 'src:', src_node, 'level:',self.node_gene_history.node_levels[src_node],'weight:', self.connections_per_level[level][node][src_node].weight.data)\n",
    "    \n",
    "    def forward(self, x:Dict[int, float]):\n",
    "        \n",
    "        node_repr = x \n",
    "        for level in self.sorted_levels:\n",
    "            for node in self.connections_per_level[level]:\n",
    "                input = torch.tensor([0.0])\n",
    "                for src_node in self.connections_per_level[level][node]:\n",
    "                    input += self.connections_per_level[level][node][src_node](node_repr[src_node])\n",
    "                node_repr[node] = sigmoid(input)\n",
    "        \n",
    "        return node_repr[list(self.connections_per_level[self.sorted_levels[-1]].keys())[0]]\n",
    "    \n",
    "nn = NeuralNetwork(genotype1)\n",
    "x = {0:torch.tensor([-1.0]),1:torch.tensor([0.3])}\n",
    "nn.forward(x)"
   ]
  },
  {
   "cell_type": "code",
   "execution_count": 2004,
   "metadata": {},
   "outputs": [
    {
     "data": {
      "text/plain": [
       "1"
      ]
     },
     "execution_count": 2004,
     "metadata": {},
     "output_type": "execute_result"
    }
   ],
   "source": [
    "genotype1.node_gene_history.node_genes[4].node_level"
   ]
  },
  {
   "cell_type": "code",
   "execution_count": 2029,
   "metadata": {},
   "outputs": [
    {
     "name": "stdout",
     "output_type": "stream",
     "text": [
      "Node genes:\n",
      "   innovation_number  node_level\n",
      "0                  0           0\n",
      "1                  1           0\n",
      "2                  2           1\n",
      "Connection genes:\n",
      "   innovation_number  in_node  out_node  weight  is_disabled\n",
      "0                  1        0         2     0.3        False\n",
      "1                  2        1         2     0.4        False\n"
     ]
    }
   ],
   "source": [
    "genotype1.print_genotype()\n"
   ]
  },
  {
   "cell_type": "code",
   "execution_count": 2006,
   "metadata": {},
   "outputs": [
    {
     "data": {
      "text/plain": [
       "1"
      ]
     },
     "execution_count": 2006,
     "metadata": {},
     "output_type": "execute_result"
    }
   ],
   "source": [
    "genotype1.node_genes[2].node_level"
   ]
  },
  {
   "cell_type": "code",
   "execution_count": 1948,
   "metadata": {},
   "outputs": [
    {
     "data": {
      "text/plain": [
       "tensor([0.6283])"
      ]
     },
     "execution_count": 1948,
     "metadata": {},
     "output_type": "execute_result"
    }
   ],
   "source": [
    "sigmoid(sigmoid(torch.tensor([0.1])))   "
   ]
  },
  {
   "cell_type": "code",
   "execution_count": 1949,
   "metadata": {},
   "outputs": [
    {
     "data": {
      "text/plain": [
       "tensor([0.5000])"
      ]
     },
     "execution_count": 1949,
     "metadata": {},
     "output_type": "execute_result"
    }
   ],
   "source": [
    "sigmoid(sigmoid(torch.tensor([-500.0])*3.287)*2.023)   "
   ]
  },
  {
   "cell_type": "code",
   "execution_count": null,
   "metadata": {},
   "outputs": [],
   "source": []
  },
  {
   "cell_type": "code",
   "execution_count": 2073,
   "metadata": {},
   "outputs": [
    {
     "name": "stdout",
     "output_type": "stream",
     "text": [
      "Node genes:\n",
      "    innovation_number  node_level\n",
      "0                   0           0\n",
      "1                   1           0\n",
      "2                   2           7\n",
      "3                   4           5\n",
      "4                   5           2\n",
      "5                   6           2\n",
      "6                   7           2\n",
      "7                   8           1\n",
      "8                   9           1\n",
      "9                  10           4\n",
      "10                 11           4\n",
      "11                 12           6\n",
      "12                 13           3\n",
      "13                 14           1\n",
      "Connection genes:\n",
      "    innovation_number  in_node  out_node    weight  is_disabled\n",
      "0                   1        0         2  1.076966         True\n",
      "1                   2        1         2 -0.305676         True\n",
      "2                   4        1         4 -1.810143         True\n",
      "3                   5        4         2  1.215634         True\n",
      "4                   6        0         4 -6.878678         True\n",
      "5                   7        0         5  1.687850        False\n",
      "6                   8        5         4  4.640414         True\n",
      "7                   9        1         5 -3.197587         True\n",
      "8                  10        5         2  5.178055        False\n",
      "9                  11        1         6 -0.533201         True\n",
      "10                 12        6         4 -0.730421         True\n",
      "11                 13        6         2  3.492027        False\n",
      "12                 14        0         7  1.926751         True\n",
      "13                 15        7         2  0.831072        False\n",
      "14                 16        7         4 -1.787053        False\n",
      "15                 17        1         8 -0.318204        False\n",
      "16                 18        8         6 -1.377142        False\n",
      "17                 19        1         9  0.703054        False\n",
      "18                 20        9         5  4.642387        False\n",
      "19                 21        5        10  3.345713        False\n",
      "20                 22       10         4 -1.976164        False\n",
      "21                 23        0        10 -1.868370        False\n",
      "22                 24        6        11  0.677351        False\n",
      "23                 25       11         4 -0.830274        False\n",
      "24                 26        4        12  5.288315        False\n",
      "25                 27       12         2  2.356922        False\n",
      "26                 28       10         2 -2.996791        False\n",
      "27                 29        8         7 -0.992768        False\n",
      "28                 30       10        12  2.720224        False\n",
      "29                 31        6        10 -0.211988         True\n",
      "30                 32        1         7  2.286366        False\n",
      "31                 33        8         2 -2.126761        False\n",
      "32                 34        6        13  0.775609        False\n",
      "33                 35       13        10 -0.211988        False\n",
      "34                 36        0        14  1.000000        False\n",
      "35                 37       14         7  1.926751        False\n"
     ]
    }
   ],
   "source": [
    "genotype1.mutate()\n",
    "genotype1.print_genotype()"
   ]
  },
  {
   "cell_type": "code",
   "execution_count": 2000,
   "metadata": {},
   "outputs": [
    {
     "data": {
      "text/plain": [
       "{0: 0, 1: 0, 2: 2, 3: 0, 4: 1}"
      ]
     },
     "execution_count": 2000,
     "metadata": {},
     "output_type": "execute_result"
    }
   ],
   "source": [
    "\n",
    "genotype1.node_gene_history.node_levels"
   ]
  },
  {
   "cell_type": "code",
   "execution_count": 2001,
   "metadata": {},
   "outputs": [
    {
     "name": "stdout",
     "output_type": "stream",
     "text": [
      "Node genes:\n",
      "   innovation_number  node_level\n",
      "0                  0           0\n",
      "1                  1           0\n",
      "2                  2           1\n",
      "3                  4           1\n",
      "Connection genes:\n",
      "   innovation_number  in_node  out_node    weight  is_disabled\n",
      "0                  1        0         2 -0.802467        False\n",
      "1                  2        1         2 -1.165614         True\n",
      "2                  4        1         4  1.000000        False\n",
      "3                  5        4         2 -1.165614        False\n"
     ]
    }
   ],
   "source": [
    "genotype1.print_genotype()"
   ]
  },
  {
   "cell_type": "code",
   "execution_count": 1962,
   "metadata": {},
   "outputs": [
    {
     "data": {
      "text/plain": [
       "{0: 0, 1: 0, 2: 2, 3: 0, 4: 1}"
      ]
     },
     "execution_count": 1962,
     "metadata": {},
     "output_type": "execute_result"
    }
   ],
   "source": [
    "nn.genotype.node_gene_history.node_levels"
   ]
  },
  {
   "cell_type": "code",
   "execution_count": null,
   "metadata": {},
   "outputs": [],
   "source": []
  },
  {
   "cell_type": "code",
   "execution_count": 1974,
   "metadata": {},
   "outputs": [
    {
     "data": {
      "text/plain": [
       "{1: {2: {1: Linear(in_features=1, out_features=1, bias=False),\n",
       "   4: Linear(in_features=1, out_features=1, bias=False)},\n",
       "  4: {0: Linear(in_features=1, out_features=1, bias=False)}}}"
      ]
     },
     "execution_count": 1974,
     "metadata": {},
     "output_type": "execute_result"
    }
   ],
   "source": [
    "nn.connections_per_level"
   ]
  },
  {
   "cell_type": "code",
   "execution_count": 1964,
   "metadata": {},
   "outputs": [
    {
     "data": {
      "text/plain": [
       "2"
      ]
     },
     "execution_count": 1964,
     "metadata": {},
     "output_type": "execute_result"
    }
   ],
   "source": [
    "list(nn.connections_per_level[nn.sorted_levels[-1]].keys())[0]"
   ]
  },
  {
   "cell_type": "code",
   "execution_count": 1954,
   "metadata": {},
   "outputs": [
    {
     "data": {
      "text/plain": [
       "1"
      ]
     },
     "execution_count": 1954,
     "metadata": {},
     "output_type": "execute_result"
    }
   ],
   "source": [
    "nn.sorted_levels[-1]"
   ]
  },
  {
   "cell_type": "code",
   "execution_count": 1955,
   "metadata": {},
   "outputs": [
    {
     "name": "stdout",
     "output_type": "stream",
     "text": [
      "   Node: 2\n",
      "      src: 0 level: 0 weight: tensor([-1.0763])\n",
      "      src: 1 level: 0 weight: tensor([-0.4176])\n"
     ]
    }
   ],
   "source": [
    "nn.print_nn()"
   ]
  },
  {
   "cell_type": "code",
   "execution_count": 1956,
   "metadata": {},
   "outputs": [
    {
     "name": "stdout",
     "output_type": "stream",
     "text": [
      "Node genes:\n",
      "   innovation_number  node_level\n",
      "0                  0           0\n",
      "1                  1           0\n",
      "2                  2           1\n",
      "Connection genes:\n",
      "   innovation_number  in_node  out_node    weight  is_disabled\n",
      "0                  1        0         2 -1.076260        False\n",
      "1                  2        1         2 -0.417572        False\n"
     ]
    }
   ],
   "source": [
    "nn.genotype.print_genotype()"
   ]
  },
  {
   "cell_type": "code",
   "execution_count": 1957,
   "metadata": {},
   "outputs": [
    {
     "ename": "KeyError",
     "evalue": "4",
     "output_type": "error",
     "traceback": [
      "\u001b[0;31m---------------------------------------------------------------------------\u001b[0m",
      "\u001b[0;31mKeyError\u001b[0m                                  Traceback (most recent call last)",
      "\u001b[1;32m/home/amos/programming/NEAT_NeuroEvolution/neat.ipynb Cell 18\u001b[0m line \u001b[0;36m1\n\u001b[0;32m----> <a href='vscode-notebook-cell://wsl%2Bubuntu/home/amos/programming/NEAT_NeuroEvolution/neat.ipynb#X36sdnNjb2RlLXJlbW90ZQ%3D%3D?line=0'>1</a>\u001b[0m nn\u001b[39m.\u001b[39;49mgenotype\u001b[39m.\u001b[39;49mnode_genes_dict[\u001b[39m4\u001b[39;49m]\u001b[39m.\u001b[39mnode_level\n",
      "\u001b[0;31mKeyError\u001b[0m: 4"
     ]
    }
   ],
   "source": [
    "nn.genotype.node_genes_dict[4].node_level"
   ]
  },
  {
   "cell_type": "code",
   "execution_count": null,
   "metadata": {},
   "outputs": [
    {
     "name": "stdout",
     "output_type": "stream",
     "text": [
      "   Node: 2\n",
      "      src: 1 level: 0 weight: tensor(-0.6207)\n",
      "      src: 4 level: 1 weight: tensor(-2.3375)\n",
      "      Node: 4\n",
      "            src: 1 level: 0 weight: tensor(1.3114)\n",
      "            src: 5 level: 1 weight: tensor(2.1237)\n",
      "      Node: 5\n",
      "            src: 0 level: 0 weight: tensor(1.)\n"
     ]
    }
   ],
   "source": [
    "nn.print_nn()\n"
   ]
  }
 ],
 "metadata": {
  "kernelspec": {
   "display_name": "neat",
   "language": "python",
   "name": "python3"
  },
  "language_info": {
   "codemirror_mode": {
    "name": "ipython",
    "version": 3
   },
   "file_extension": ".py",
   "mimetype": "text/x-python",
   "name": "python",
   "nbconvert_exporter": "python",
   "pygments_lexer": "ipython3",
   "version": "3.11.5"
  }
 },
 "nbformat": 4,
 "nbformat_minor": 2
}

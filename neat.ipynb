{
 "cells": [
  {
   "cell_type": "code",
   "execution_count": 1,
   "metadata": {},
   "outputs": [],
   "source": [
    "import numpy as np "
   ]
  },
  {
   "cell_type": "markdown",
   "metadata": {},
   "source": [
    "# NEAT\n",
    "1. Classes and Functions\n",
    "- 1.1. Neural Network (Genotype)->Phenotype, input, output dim, contains mutation: \n",
    "- 1.2. Genotype: A->B: connection gene, A:Node gene, is_disabled, weight, keep track of gene history\n",
    "- 1.3. Crossover (Genotype1, Genotype2)->Genotype12\n",
    "- 1.4. Species, represented by random member\n",
    "- 1.5. Speciation (List of Species)-> List of Species\n",
    "- 1.6. Fitness Calculation (Species)\n",
    "- 1.7."
   ]
  },
  {
   "cell_type": "code",
   "execution_count": null,
   "metadata": {},
   "outputs": [],
   "source": [
    "# Evolver:\n",
    "n_networks = 150\n",
    "\n",
    "# Fitness:\n",
    "c1 = 1.0\n",
    "c2 = 1.0\n",
    "c3 = 0.4\n",
    "dt = 3 \n",
    "\n",
    "# Mutation\n",
    "mutate_weight_prob = 0.8\n",
    "mutate_weight_perturb = 0.9\n",
    "mutate_weight_random = 1 - mutate_weight_perturb\n",
    "mutate_add_node_prob = 0.03\n",
    "mutate_add_node_prob_large_pop = 0.3\n",
    "mutate_add_link_prob = 0.05\n",
    "\n",
    "offspring_without_crossover = 0.25\n",
    "interspecies_mate_rate = 0.001\n",
    "\n",
    "def sigmoid(x):\n",
    "    return 1.0 / (1.0 + np.exp(-4.9*x))\n"
   ]
  },
  {
   "cell_type": "code",
   "execution_count": 53,
   "metadata": {},
   "outputs": [],
   "source": [
    "\n",
    "class History:\n",
    "    def __init__(self):\n",
    "        self.last_node_id = 0\n",
    "        self.last_connection_id = 0\n",
    "        self.node_innovations = {}\n",
    "        self.connection_innovations = {}\n",
    "    \n",
    "    def add_node_gene(self, start_node_id, end_node_id): # node is added between start and end\n",
    "        self.last_node_id += 1\n",
    "        \n",
    "\n",
    "\n",
    "\n",
    "class Connection_Gene_History:\n",
    "    def __init__(self):\n",
    "        self.innovation_number = 0\n",
    "        self.history = {}\n",
    "    \n",
    "    def get_innovation_number(self, connection):\n",
    "        if connection not in self.history:\n",
    "            self.innovation_number += 1\n",
    "            self.history[connection] = self.innovation_number\n",
    "        \n",
    "        return self.history[connection]\n",
    "    \n",
    "    def __contains__(self, connection):\n",
    "        return connection in self.history\n",
    "\n",
    "class Node_Gene_History:\n",
    "    def __init__(self):\n",
    "        self.innovation_number = 0\n",
    "        self.history = {}\n",
    "        self.node_levels = {}\n",
    "    \n",
    "    def get_innovation_number(self, connection, src_node):\n",
    "        \n",
    "        if connection not in self.history:\n",
    "            self.innovation_number += 1\n",
    "            self.history[connection] = self.innovation_number\n",
    "            self.node_level[self.innovation_number] = self.node_level[src_node] + 1\n",
    "        \n",
    "        return self.history[connection], self.node_levels[self.innovation_number]\n",
    "    \n",
    "    def __contains__(self, connection):\n",
    "        return connection in self.history\n",
    "\n",
    "\n",
    "\n",
    "class Node_Gene:\n",
    "    def __init__(self, src_node, dst_node, node_gene_history:Node_Gene_History):\n",
    "        connection = str(src_node)+'->'+str(dst_node)\n",
    "        self.innovation_number, self.node_level = node_gene_history.get_innovation_number(connection)\n",
    "            \n",
    "        self.src_node = src_node\n",
    "        self.dst_node = dst_node\n",
    "\n",
    "class Connection_Gene:\n",
    "    def __init__(self, in_node, out_node, weight, is_disabled, connection_gene_history:Connection_Gene_History):\n",
    "        connection = str(in_node)+'->'+str(out_node)\n",
    "        self.in_node = in_node\n",
    "        self.out_node = out_node\n",
    "        self.weight = weight\n",
    "        self.is_disabled = is_disabled\n",
    "        self.innovation_number = connection_gene_history.get_innovation_number(connection)\n",
    "        \n",
    "            \n",
    "class Genotype:\n",
    "    def __init__(self, node_genes, connection_genes,\n",
    "                 node_gene_history:Node_Gene_History, connection_gene_history:Connection_Gene_History,\n",
    "                 mutate_weight_prob, mutate_weight_perturb, mutate_weight_random, mutate_add_node_prob, mutate_add_node_prob_large_pop, mutate_add_link_prob):\n",
    "        \n",
    "        self.node_genes = node_genes\n",
    "        self.connection_genes = connection_genes\n",
    "        self.node_gene_history = node_gene_history\n",
    "        self.connection_gene_history = connection_gene_history\n",
    "        self.mutate_weight_prob = mutate_weight_prob\n",
    "        self.mutate_weight_perturb = mutate_weight_perturb\n",
    "        self.mutate_weight_random = mutate_weight_random\n",
    "        self.mutate_add_node_prob = mutate_add_node_prob\n",
    "        self.mutate_add_node_prob_large_pop = mutate_add_node_prob_large_pop\n",
    "        self.mutate_add_link_prob = mutate_add_link_prob\n",
    "        \n",
    "    \n",
    "    def mutate(self):\n",
    "        # mutate weight\n",
    "        for connection_gene in self.connection_genes:\n",
    "            if np.random.rand() < self.mutate_weight_prob:\n",
    "                if np.random.rand() < self.mutate_weight_perturb:\n",
    "                    connection_gene.weight += np.random.normal()\n",
    "                else:\n",
    "                    connection_gene.weight = np.random.normal()\n",
    "        \n",
    "        # mutate add node\n",
    "        if np.random.rand() < self.mutate_add_node_prob:\n",
    "            self.add_node()\n",
    "\n",
    "        # mutate add link\n",
    "        if np.random.rand() < self.mutate_add_link_prob:\n",
    "            self.add_connection()\n",
    "            \n",
    "    def add_node(self):\n",
    "        # select a random connection gene\n",
    "        while True:\n",
    "            connection_gene = np.random.choice(self.connection_genes)\n",
    "            if not connection_gene.is_disabled:\n",
    "                break \n",
    "            \n",
    "        connection_gene.is_disabled = True\n",
    "        \n",
    "        # add node gene\n",
    "        node_gene = Node_Gene(connection_gene.in_node, connection_gene.out_node, self.node_gene_history)\n",
    "        self.node_genes.append(node_gene)\n",
    "        \n",
    "        # add connection genes, first weight is 1.0, second is the one of the original\n",
    "        connection_gene1 = Connection_Gene(connection_gene.in_node, node_gene.src_node, 1.0, False, self.connection_gene_history)\n",
    "        connection_gene2 = Connection_Gene(node_gene.dst_node, connection_gene.out_node, connection_gene.weight, False, self.connection_gene_history)\n",
    "        self.connection_genes.append(connection_gene1)\n",
    "        self.connection_genes.append(connection_gene2)\n",
    "    \n",
    "    def add_connection(self):\n",
    "        while True:\n",
    "            # first select random source node\n",
    "            src = np.random.choice(self.node_genes)\n",
    "            \n",
    "            # select destination node where level is higher than source\n",
    "            dsts = [node_gene for node_gene in self.node_genes if node_gene.node_level > src.node_level]\n",
    "            if len(dsts) == 0: # case when no more connection available\n",
    "                continue\n",
    "            dst = np.random.choice(dsts)\n",
    "            \n",
    "            \n",
    "            # check if connection already exists\n",
    "            connection = str(src.innovation_number)+'->'+str(dst.innovation_number)\n",
    "            if not connection in self.connection_gene_history:\n",
    "                break\n",
    "        \n",
    "        # add connection gene\n",
    "        connection_gene = Connection_Gene(src.innovation_number, dst.innovation_number, np.random.normal(), False, self.connection_gene_history)\n",
    "        self.connection_genes.append(connection_gene)\n",
    "    \n",
    "    def crossover(self, other):\n",
    "        \n",
    "        # perform crossover, take all connection genes from the fitter parent\n",
    "        # \n",
    "        \n",
    "        return Genotype(node_genes, connection_genes, self.node_gene_history, self.connection_gene_history, self.mutate_weight_prob, self.mutate_weight_perturb, self.mutate_weight_random, self.mutate_add_node_prob, self.mutate_add_node_prob_large_pop, self.mutate_add_link_prob)\n",
    "    \n",
    "    def distance(self, other):\n",
    "        pass\n",
    "    \n",
    "    def __str__(self):\n",
    "        return str(self.node_genes) + '\\n' + str(self.connection_genes)"
   ]
  },
  {
   "cell_type": "code",
   "execution_count": 54,
   "metadata": {},
   "outputs": [],
   "source": [
    "node_gene_history = Node_Gene_History()\n",
    "connection_gene_history = Connection_Gene_History()\n"
   ]
  },
  {
   "cell_type": "code",
   "execution_count": 55,
   "metadata": {},
   "outputs": [
    {
     "data": {
      "text/plain": [
       "{}"
      ]
     },
     "execution_count": 55,
     "metadata": {},
     "output_type": "execute_result"
    }
   ],
   "source": [
    "node_gene_history.history"
   ]
  },
  {
   "cell_type": "code",
   "execution_count": 52,
   "metadata": {},
   "outputs": [
    {
     "data": {
      "text/plain": [
       "2"
      ]
     },
     "execution_count": 52,
     "metadata": {},
     "output_type": "execute_result"
    }
   ],
   "source": [
    "a = Node_Gene(1, 3, node_gene_history)\n",
    "a.innovation_number"
   ]
  },
  {
   "cell_type": "code",
   "execution_count": null,
   "metadata": {},
   "outputs": [],
   "source": [
    "class NeuralNetwork():\n",
    "    def __init__(self, genotype:Genotype) -> None:\n",
    "        pass"
   ]
  }
 ],
 "metadata": {
  "kernelspec": {
   "display_name": "neat",
   "language": "python",
   "name": "python3"
  },
  "language_info": {
   "codemirror_mode": {
    "name": "ipython",
    "version": 3
   },
   "file_extension": ".py",
   "mimetype": "text/x-python",
   "name": "python",
   "nbconvert_exporter": "python",
   "pygments_lexer": "ipython3",
   "version": "3.11.5"
  }
 },
 "nbformat": 4,
 "nbformat_minor": 2
}

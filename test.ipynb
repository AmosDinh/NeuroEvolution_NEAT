{
 "cells": [
  {
   "cell_type": "code",
   "execution_count": 2,
   "metadata": {},
   "outputs": [],
   "source": [
    "import torch \n",
    "a = torch.load('runs/lunar/2023-11-30 21:46:21.429074/species_10.pt')"
   ]
  },
  {
   "cell_type": "code",
   "execution_count": 7,
   "metadata": {},
   "outputs": [
    {
     "name": "stdout",
     "output_type": "stream",
     "text": [
      "Node genes:\n",
      "    innovation_number  node_level\n",
      "0                   1           0\n",
      "1                  10           2\n",
      "2                  12           2\n",
      "3                   3           0\n",
      "4                   4           0\n",
      "5                   2           0\n",
      "6                  11           2\n",
      "7                   9           2\n",
      "8                   5           0\n",
      "9                   6           0\n",
      "10                  8           0\n",
      "11                  0           0\n",
      "12                  7           0\n",
      "13                 38           1\n",
      "Connection genes:\n",
      "    innovation_number  in_node  out_node     weight  is_disabled\n",
      "0                  30        7        10   8.637790        False\n",
      "1                  28        6        12 -12.532255        False\n",
      "2                  36        8        12   3.731565        False\n",
      "3                  11        2        11   2.475323        False\n",
      "4                  16        3        12  -3.599595        False\n",
      "5                  19        4        11  -0.266402        False\n",
      "6                   6        1        10   3.161749        False\n",
      "7                  13        3         9   5.950983         True\n",
      "8                   8        1        12  -1.025375        False\n",
      "9                  34        8        10   0.843350        False\n",
      "10                 22        5        10   3.067580        False\n",
      "11                 20        4        12   4.536865        False\n",
      "12                 23        5        11   2.317297        False\n",
      "13                  7        1        11  -0.160978        False\n",
      "14                 29        7         9  -0.676076        False\n",
      "15                 27        6        11   2.359004        False\n",
      "16                 31        7        11  -3.819355        False\n",
      "17                 14        3        10  -1.152555        False\n",
      "18                  4        0        12   0.204292        False\n",
      "19                 15        3        11   1.037515        False\n",
      "20                 26        6        10  -8.379952        False\n",
      "21                 33        8         9  -3.602921        False\n",
      "22                 35        8        11   3.067151        False\n",
      "23                 21        5         9  -2.685987        False\n",
      "24                  5        1         9  -2.161790        False\n",
      "25                 24        5        12  -1.040414        False\n",
      "26                 12        2        12  -4.748652        False\n",
      "27                  3        0        11   7.557338        False\n",
      "28                 10        2        10   2.795206        False\n",
      "29                 25        6         9  -0.724241        False\n",
      "30                  1        0         9  13.214170        False\n",
      "31                 17        4         9   0.990744        False\n",
      "32                  2        0        10  -0.494485        False\n",
      "33                  9        2         9   3.722284        False\n",
      "34                 32        7        12   3.025136        False\n",
      "35                 18        4        10   7.553900        False\n",
      "36                 96        3        38   7.225233        False\n",
      "37                 97       38         9   5.197695        False\n"
     ]
    }
   ],
   "source": [
    "a[0].genotypes[0].print_genotype()"
   ]
  }
 ],
 "metadata": {
  "kernelspec": {
   "display_name": "neat",
   "language": "python",
   "name": "python3"
  },
  "language_info": {
   "codemirror_mode": {
    "name": "ipython",
    "version": 3
   },
   "file_extension": ".py",
   "mimetype": "text/x-python",
   "name": "python",
   "nbconvert_exporter": "python",
   "pygments_lexer": "ipython3",
   "version": "3.11.5"
  }
 },
 "nbformat": 4,
 "nbformat_minor": 2
}
